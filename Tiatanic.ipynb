{
  "nbformat": 4,
  "nbformat_minor": 0,
  "metadata": {
    "colab": {
      "name": "Tiatanic.ipynb",
      "provenance": [],
      "collapsed_sections": [],
      "include_colab_link": true
    },
    "kernelspec": {
      "name": "python3",
      "display_name": "Python 3"
    }
  },
  "cells": [
    {
      "cell_type": "markdown",
      "metadata": {
        "id": "view-in-github",
        "colab_type": "text"
      },
      "source": [
        "<a href=\"https://colab.research.google.com/github/AnupKumarGupta/AbstractiveTextSummarizer/blob/master/Tiatanic.ipynb\" target=\"_parent\"><img src=\"https://colab.research.google.com/assets/colab-badge.svg\" alt=\"Open In Colab\"/></a>"
      ]
    },
    {
      "cell_type": "code",
      "metadata": {
        "id": "cUXTuoCk_2_Y",
        "colab_type": "code",
        "outputId": "6ebf0c5f-5136-4492-959e-82686883eb31",
        "colab": {
          "base_uri": "https://localhost:8080/",
          "height": 122
        }
      },
      "source": [
        "from google.colab import drive\n",
        "drive.mount('/content/drive')"
      ],
      "execution_count": 0,
      "outputs": [
        {
          "output_type": "stream",
          "text": [
            "Go to this URL in a browser: https://accounts.google.com/o/oauth2/auth?client_id=947318989803-6bn6qk8qdgf4n4g3pfee6491hc0brc4i.apps.googleusercontent.com&redirect_uri=urn%3Aietf%3Awg%3Aoauth%3A2.0%3Aoob&scope=email%20https%3A%2F%2Fwww.googleapis.com%2Fauth%2Fdocs.test%20https%3A%2F%2Fwww.googleapis.com%2Fauth%2Fdrive%20https%3A%2F%2Fwww.googleapis.com%2Fauth%2Fdrive.photos.readonly%20https%3A%2F%2Fwww.googleapis.com%2Fauth%2Fpeopleapi.readonly&response_type=code\n",
            "\n",
            "Enter your authorization code:\n",
            "··········\n",
            "Mounted at /content/drive\n"
          ],
          "name": "stdout"
        }
      ]
    },
    {
      "cell_type": "code",
      "metadata": {
        "id": "MJ9Z3zunA5HI",
        "colab_type": "code",
        "colab": {}
      },
      "source": [
        "import numpy as np\n",
        "from sklearn.model_selection import train_test_split\n",
        "from sklearn.impute import SimpleImputer\n",
        "from sklearn.preprocessing import LabelEncoder, OneHotEncoder\n",
        "import pandas as pd \n",
        "import matplotlib.pyplot as plt\n",
        "from sklearn import svm\n",
        "\n",
        "dataFrameTrain = pd.read_csv(\"/content/drive/My Drive/Colab Notebooks/Dataset_SVM/train.csv\")\n",
        "dataFrameTest = pd.read_csv(\"/content/drive/My Drive/Colab Notebooks/Dataset_SVM/test.csv\")"
      ],
      "execution_count": 0,
      "outputs": []
    },
    {
      "cell_type": "code",
      "metadata": {
        "id": "GXumDwCezYsi",
        "colab_type": "code",
        "outputId": "7216ba1d-7ba5-4ccf-f66b-ffbe514c43e0",
        "colab": {
          "base_uri": "https://localhost:8080/",
          "height": 306
        }
      },
      "source": [
        "if 'PassengerId' in dataFrameTrain.columns: #To resolve errors, if the columns are already dropped\n",
        "    dataFrameTrain = dataFrameTrain.drop(columns=['PassengerId','Name', 'Ticket', 'Cabin'])\n",
        "if 'PassengerId' in dataFrameTest.columns:\n",
        "    dataFrameTest = dataFrameTest.drop(columns=['PassengerId','Name', 'Ticket', 'Cabin'])    \n",
        "\n",
        "print(dataFrameTrain.isna().any())\n",
        "# Age and Embarked have null values in training data\n",
        "print(dataFrameTest.isna().any())\n",
        "# Age and Fare have null values in training data"
      ],
      "execution_count": 129,
      "outputs": [
        {
          "output_type": "stream",
          "text": [
            "Survived    False\n",
            "Pclass      False\n",
            "Sex         False\n",
            "Age          True\n",
            "SibSp       False\n",
            "Parch       False\n",
            "Fare        False\n",
            "Embarked     True\n",
            "dtype: bool\n",
            "Pclass      False\n",
            "Sex         False\n",
            "Age          True\n",
            "SibSp       False\n",
            "Parch       False\n",
            "Fare         True\n",
            "Embarked    False\n",
            "dtype: bool\n"
          ],
          "name": "stdout"
        }
      ]
    },
    {
      "cell_type": "code",
      "metadata": {
        "id": "SOdObVqku6MC",
        "colab_type": "code",
        "colab": {}
      },
      "source": [
        "X = dataFrameTrain.loc[:, dataFrameTrain.columns != 'Survived'].values\n",
        "Y = dataFrameTrain.loc[:, dataFrameTrain.columns == 'Survived'].values\n",
        "X_unseen = dataFrameTest.loc[:, dataFrameTest.columns != 'Survived'].values"
      ],
      "execution_count": 0,
      "outputs": []
    },
    {
      "cell_type": "code",
      "metadata": {
        "id": "RAy59cS5umHD",
        "colab_type": "code",
        "outputId": "65c011fc-4833-4d89-c26d-0a6a7951a66c",
        "colab": {
          "base_uri": "https://localhost:8080/",
          "height": 289
        }
      },
      "source": [
        "#Imputing Age by Mean for training data\n",
        "imp = SimpleImputer(missing_values=np.nan, strategy='mean')\n",
        "imp = imp.fit(X[:,2:3])\n",
        "X[:,2:3] = imp.transform(X[:,2:3])\n",
        "\n",
        "#Imputing Age of testing data by mean of training data\n",
        "meanAgeTrain = np.mean(X[:,2:3])\n",
        "imp = SimpleImputer(missing_values=np.nan, strategy='constant',fill_value=meanAgeTrain)\n",
        "imp = imp.fit(X_unseen[:,2:3])\n",
        "X_unseen[:,2:3] = imp.transform(X_unseen[:,2:3])\n",
        "\n",
        "#Imputing Age of testing data by Mean of training data\n",
        "meanFareTrain = np.mean(X[:,5:6])\n",
        "imp = SimpleImputer(missing_values=np.nan, strategy='constant',fill_value=meanAgeTrain)\n",
        "imp = imp.fit(X_unseen[:,5:6])\n",
        "X_unseen[:,5:6] = imp.transform(X_unseen[:,5:6])\n",
        "\n",
        "#Imputing Embarked by Most Frequent Occurance for training data\n",
        "imp = SimpleImputer(missing_values=np.nan, strategy='most_frequent')\n",
        "imp = imp.fit(X[:,6:])\n",
        "X[:,6:] = imp.transform(X[:,6:])\n",
        "\n",
        "#checking for NaN values\n",
        "print(pd.DataFrame(X).isna().any())\n",
        "print(pd.DataFrame(X_unseen).isna().any())"
      ],
      "execution_count": 131,
      "outputs": [
        {
          "output_type": "stream",
          "text": [
            "0    False\n",
            "1    False\n",
            "2    False\n",
            "3    False\n",
            "4    False\n",
            "5    False\n",
            "6    False\n",
            "dtype: bool\n",
            "0    False\n",
            "1    False\n",
            "2    False\n",
            "3    False\n",
            "4    False\n",
            "5    False\n",
            "6    False\n",
            "dtype: bool\n"
          ],
          "name": "stdout"
        }
      ]
    },
    {
      "cell_type": "code",
      "metadata": {
        "id": "UqSB2DK2zUyK",
        "colab_type": "code",
        "colab": {}
      },
      "source": [
        "# Encoding Sex for training data\n",
        "labelEncoder = LabelEncoder()\n",
        "labelEncoder.fit(X[:,1:2].ravel())\n",
        "X[:,1:2] = labelEncoder.transform(X[:,1:2].ravel()).reshape(X[:,1:2].shape[0],1) \n",
        "\n",
        "# Encoding Sex for test data\n",
        "labelEncoder.fit(X_unseen[:,1:2].ravel())\n",
        "X_unseen[:,1:2] = labelEncoder.transform(X_unseen[:,1:2].ravel()).reshape(X_unseen[:,1:2].shape[0],1) "
      ],
      "execution_count": 0,
      "outputs": []
    },
    {
      "cell_type": "code",
      "metadata": {
        "id": "z9ilS1RK08ZG",
        "colab_type": "code",
        "colab": {}
      },
      "source": [
        "#Encoding Embarkment for training data\n",
        "labelEncoder = LabelEncoder()\n",
        "labelEncoder.fit(X[:,6:].ravel())\n",
        "X[:,6:] = labelEncoder.transform(X[:,6:].ravel()).reshape(X[:,6:].shape[0],1) \n",
        "\n",
        "#Encoding Embarkment for test data\n",
        "labelEncoder.fit(X_unseen[:,6:].ravel())\n",
        "X_unseen[:,6:] = labelEncoder.transform(X_unseen[:,6:].ravel()).reshape(X_unseen[:,6:].shape[0],1) "
      ],
      "execution_count": 0,
      "outputs": []
    },
    {
      "cell_type": "code",
      "metadata": {
        "id": "NPDddOgOBOSW",
        "colab_type": "code",
        "colab": {}
      },
      "source": [
        "X_train, X_test, y_train, y_test = train_test_split(X, Y, test_size=0.1, random_state=42)"
      ],
      "execution_count": 0,
      "outputs": []
    },
    {
      "cell_type": "code",
      "metadata": {
        "id": "-t69yof6sfZb",
        "colab_type": "code",
        "outputId": "e0add851-1494-4d3d-d35f-882c3cce7dfe",
        "colab": {
          "base_uri": "https://localhost:8080/",
          "height": 85
        }
      },
      "source": [
        "clf = svm.SVC(gamma='scale')\n",
        "clf.fit(X_train, y_train.ravel())"
      ],
      "execution_count": 135,
      "outputs": [
        {
          "output_type": "execute_result",
          "data": {
            "text/plain": [
              "SVC(C=1.0, cache_size=200, class_weight=None, coef0=0.0,\n",
              "    decision_function_shape='ovr', degree=3, gamma='scale', kernel='rbf',\n",
              "    max_iter=-1, probability=False, random_state=None, shrinking=True,\n",
              "    tol=0.001, verbose=False)"
            ]
          },
          "metadata": {
            "tags": []
          },
          "execution_count": 135
        }
      ]
    },
    {
      "cell_type": "code",
      "metadata": {
        "id": "cyvvkIBPzYsz",
        "colab_type": "code",
        "colab": {
          "base_uri": "https://localhost:8080/",
          "height": 51
        },
        "outputId": "23648a41-28c0-4a3e-92d5-d8dbf540f9af"
      },
      "source": [
        "TP=0\n",
        "FN=0\n",
        "FP=0\n",
        "TN=0\n",
        "for row in range(X_test.shape[0]):\n",
        "    pred = (clf.predict(X_test[row].reshape(1, -1)))\n",
        "    if(pred ==1):\n",
        "      if(y_test[row]==1):\n",
        "        TP = TP + 1\n",
        "      else:\n",
        "        FP = FP +1\n",
        "    else:\n",
        "      if(y_test[row]==1):\n",
        "        FN = FN + 1\n",
        "      else:\n",
        "        TN = TN +1\n",
        "print(TP,FN,FP,TN)\n",
        "precision = TP/(TP+FP)\n",
        "recall = TP/(TP+FN)\n",
        "print(precision, recall)"
      ],
      "execution_count": 136,
      "outputs": [
        {
          "output_type": "stream",
          "text": [
            "12 24 3 51\n",
            "0.8 0.3333333333333333\n"
          ],
          "name": "stdout"
        }
      ]
    }
  ]
}